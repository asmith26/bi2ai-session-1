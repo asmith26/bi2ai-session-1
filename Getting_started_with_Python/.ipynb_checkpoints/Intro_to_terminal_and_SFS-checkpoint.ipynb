{
 "cells": [
  {
   "cell_type": "markdown",
   "metadata": {},
   "source": [
    "# Terminal commands\n",
    "\n",
    "In sherlock, by accessing the terminal you can carry out a lot of operations that are currently unaviable in the UI.\n",
    "\n",
    "We want to be fammililar with just a couple\n",
    "\n",
    "ls, cd, mkdir, mv, pwd\n",
    "\n",
    "These allow you to move around the folders easily, make new ones and change locations of files\n",
    "\n",
    "You can use these sipmle commands in the notebook and in the terminal. Other commands will only run in the terminal."
   ]
  },
  {
   "cell_type": "markdown",
   "metadata": {},
   "source": [
    "### ls\n",
    "look at where I am"
   ]
  },
  {
   "cell_type": "code",
   "execution_count": 6,
   "metadata": {
    "collapsed": false
   },
   "outputs": [
    {
     "name": "stdout",
     "output_type": "stream",
     "text": [
      "Dashboard.ipynb  handle_data.ipynb  Intro_to_terminal_and_SFS.ipynb\r\n"
     ]
    }
   ],
   "source": [
    "ls"
   ]
  },
  {
   "cell_type": "markdown",
   "metadata": {},
   "source": [
    "### cd\n",
    "On its own. Go all the way back!"
   ]
  },
  {
   "cell_type": "code",
   "execution_count": 7,
   "metadata": {
    "collapsed": false
   },
   "outputs": [
    {
     "name": "stdout",
     "output_type": "stream",
     "text": [
      "/home/sherlock\n"
     ]
    }
   ],
   "source": [
    "cd"
   ]
  },
  {
   "cell_type": "markdown",
   "metadata": {},
   "source": [
    "Now we want to go back"
   ]
  },
  {
   "cell_type": "code",
   "execution_count": 8,
   "metadata": {
    "collapsed": false
   },
   "outputs": [
    {
     "name": "stdout",
     "output_type": "stream",
     "text": [
      "\u001b[0m\u001b[01;34manaconda\u001b[0m/  \u001b[01;34mworkspace\u001b[0m/\r\n"
     ]
    }
   ],
   "source": [
    "ls"
   ]
  },
  {
   "cell_type": "code",
   "execution_count": 9,
   "metadata": {
    "collapsed": false
   },
   "outputs": [
    {
     "name": "stdout",
     "output_type": "stream",
     "text": [
      "/home/sherlock/workspace\n"
     ]
    }
   ],
   "source": [
    "cd /home/sherlock/workspace/"
   ]
  },
  {
   "cell_type": "code",
   "execution_count": 10,
   "metadata": {
    "collapsed": false
   },
   "outputs": [
    {
     "name": "stdout",
     "output_type": "stream",
     "text": [
      "Dashboard.ipynb  handle_data.ipynb  Intro_to_terminal_and_SFS.ipynb\r\n"
     ]
    }
   ],
   "source": [
    "ls"
   ]
  },
  {
   "cell_type": "markdown",
   "metadata": {},
   "source": [
    "### mkdir \n",
    "allows you to make a folder\n"
   ]
  },
  {
   "cell_type": "code",
   "execution_count": 11,
   "metadata": {
    "collapsed": false
   },
   "outputs": [],
   "source": [
    "mkdir data"
   ]
  },
  {
   "cell_type": "code",
   "execution_count": 12,
   "metadata": {
    "collapsed": false
   },
   "outputs": [
    {
     "name": "stdout",
     "output_type": "stream",
     "text": [
      "Dashboard.ipynb  \u001b[0m\u001b[01;34mdata\u001b[0m/  handle_data.ipynb  Intro_to_terminal_and_SFS.ipynb\r\n"
     ]
    }
   ],
   "source": [
    "ls"
   ]
  },
  {
   "cell_type": "code",
   "execution_count": 13,
   "metadata": {
    "collapsed": false
   },
   "outputs": [
    {
     "name": "stdout",
     "output_type": "stream",
     "text": [
      "/home/sherlock/workspace/data\n"
     ]
    }
   ],
   "source": [
    "cd data"
   ]
  },
  {
   "cell_type": "code",
   "execution_count": 14,
   "metadata": {
    "collapsed": false
   },
   "outputs": [],
   "source": [
    "mkdir ben"
   ]
  },
  {
   "cell_type": "code",
   "execution_count": 15,
   "metadata": {
    "collapsed": false
   },
   "outputs": [
    {
     "name": "stdout",
     "output_type": "stream",
     "text": [
      "\u001b[0m\u001b[01;34mben\u001b[0m/\r\n"
     ]
    }
   ],
   "source": [
    "ls"
   ]
  },
  {
   "cell_type": "code",
   "execution_count": 16,
   "metadata": {
    "collapsed": false
   },
   "outputs": [
    {
     "name": "stdout",
     "output_type": "stream",
     "text": [
      "/home/sherlock/workspace/data/ben\n"
     ]
    }
   ],
   "source": [
    "cd ben"
   ]
  },
  {
   "cell_type": "code",
   "execution_count": 17,
   "metadata": {
    "collapsed": true
   },
   "outputs": [],
   "source": [
    "ls"
   ]
  },
  {
   "cell_type": "code",
   "execution_count": 18,
   "metadata": {
    "collapsed": false
   },
   "outputs": [
    {
     "name": "stdout",
     "output_type": "stream",
     "text": [
      "/home/sherlock/workspace/data\n"
     ]
    }
   ],
   "source": [
    "cd .."
   ]
  },
  {
   "cell_type": "code",
   "execution_count": 19,
   "metadata": {
    "collapsed": false
   },
   "outputs": [
    {
     "name": "stdout",
     "output_type": "stream",
     "text": [
      "\u001b[0m\u001b[01;34mben\u001b[0m/\r\n"
     ]
    }
   ],
   "source": [
    "ls"
   ]
  },
  {
   "cell_type": "code",
   "execution_count": 20,
   "metadata": {
    "collapsed": true
   },
   "outputs": [],
   "source": [
    "mkdir harry"
   ]
  },
  {
   "cell_type": "code",
   "execution_count": 21,
   "metadata": {
    "collapsed": false
   },
   "outputs": [
    {
     "name": "stdout",
     "output_type": "stream",
     "text": [
      "\u001b[0m\u001b[01;34mben\u001b[0m/  \u001b[01;34mharry\u001b[0m/\r\n"
     ]
    }
   ],
   "source": [
    "ls"
   ]
  },
  {
   "cell_type": "code",
   "execution_count": 22,
   "metadata": {
    "collapsed": false
   },
   "outputs": [
    {
     "name": "stdout",
     "output_type": "stream",
     "text": [
      "/home/sherlock/workspace/data/harry\n"
     ]
    }
   ],
   "source": [
    "cd harry"
   ]
  },
  {
   "cell_type": "markdown",
   "metadata": {},
   "source": [
    "Putting ../ moves you back one level"
   ]
  },
  {
   "cell_type": "code",
   "execution_count": 23,
   "metadata": {
    "collapsed": false
   },
   "outputs": [
    {
     "name": "stdout",
     "output_type": "stream",
     "text": [
      "/home/sherlock/workspace/data/ben\n"
     ]
    }
   ],
   "source": [
    "cd ../ben"
   ]
  },
  {
   "cell_type": "markdown",
   "metadata": {},
   "source": [
    "### pwd \n",
    "present working directory"
   ]
  },
  {
   "cell_type": "code",
   "execution_count": 24,
   "metadata": {
    "collapsed": false
   },
   "outputs": [
    {
     "data": {
      "text/plain": [
       "'/home/sherlock/workspace/data/ben'"
      ]
     },
     "execution_count": 24,
     "metadata": {},
     "output_type": "execute_result"
    }
   ],
   "source": [
    "pwd"
   ]
  },
  {
   "cell_type": "markdown",
   "metadata": {},
   "source": [
    "## Why is this important?\n",
    "\n",
    "Most importantly, it allows you to naviatage the file structure of your workspace beyond the simple interface   \n",
    "\n",
    "Also, SFS the sherlock filesystem is constructed on the same lines.\n"
   ]
  },
  {
   "cell_type": "markdown",
   "metadata": {},
   "source": [
    "## SFS"
   ]
  },
  {
   "cell_type": "markdown",
   "metadata": {},
   "source": [
    "What the f@£K is SFS.\n",
    "\n",
    "See the tab to the left called datasets. \n",
    "\n",
    "This is where your data is stored, in sherlock when you upload it.\n",
    "\n",
    "but you can't interact with it directly in the workbook. \n",
    "\n",
    "First you have"
   ]
  },
  {
   "cell_type": "code",
   "execution_count": 25,
   "metadata": {
    "collapsed": true
   },
   "outputs": [],
   "source": [
    "#Putting a hash in front of a sentence puts it as a comment\n",
    "#This means it will not be run\n",
    "\n",
    "\n",
    "#Here we import the sherlockml library, \n",
    "#this gives us access to the functions.\n",
    "#We will import other libaries for other functions later.\n",
    "import sherlockml.filesystem as sfs"
   ]
  },
  {
   "cell_type": "code",
   "execution_count": 26,
   "metadata": {
    "collapsed": false
   },
   "outputs": [
    {
     "ename": "SyntaxError",
     "evalue": "invalid syntax (<ipython-input-26-3af7073fbcd2>, line 2)",
     "output_type": "error",
     "traceback": [
      "\u001b[0;36m  File \u001b[0;32m\"<ipython-input-26-3af7073fbcd2>\"\u001b[0;36m, line \u001b[0;32m2\u001b[0m\n\u001b[0;31m    sfs.\u001b[0m\n\u001b[0m        ^\u001b[0m\n\u001b[0;31mSyntaxError\u001b[0m\u001b[0;31m:\u001b[0m invalid syntax\n"
     ]
    }
   ],
   "source": [
    "#hitting tab helps you to see the auto complete options\n",
    "sfs."
   ]
  },
  {
   "cell_type": "markdown",
   "metadata": {},
   "source": [
    "## two comands we care about\n",
    "\n",
    "#### sfs.ls() \n",
    "show the files\n",
    "\n",
    "#### sfs.get() \n",
    "get the file"
   ]
  },
  {
   "cell_type": "code",
   "execution_count": 27,
   "metadata": {
    "collapsed": false
   },
   "outputs": [
    {
     "data": {
      "text/plain": [
       "['/.sml/chandra/lens/e7322c77-f58d-44e5-b69d-3d28a9059660.json',\n",
       " '/.sml/chandra/lens/eed5202f-dc07-41ed-b6ce-44e79171b009.json',\n",
       " '/.sml/tavern/92dc26b9-2b9a-4be8-8388-72f9d013b99d/127fc273-ccd8-43c0-a332-1f0dcf24ff83/index.html',\n",
       " '/.sml/tavern/92dc26b9-2b9a-4be8-8388-72f9d013b99d/2c32c252-0c77-47b9-a5f1-44a5aa319f6c/index.html',\n",
       " '/.sml/tavern/92dc26b9-2b9a-4be8-8388-72f9d013b99d/3271b9e6-526b-4a10-820e-72725a01a7e1/index.html',\n",
       " '/.sml/tavern/92dc26b9-2b9a-4be8-8388-72f9d013b99d/35fc1aeb-56a1-483f-8a31-70f9c6f88741/index.html',\n",
       " '/.sml/tavern/92dc26b9-2b9a-4be8-8388-72f9d013b99d/7ee288b3-a147-4101-9eb6-35e96c3cdccd/index.html',\n",
       " '/.sml/tavern/92dc26b9-2b9a-4be8-8388-72f9d013b99d/95a3b482-3f01-41c0-8f53-e996fedcbaa6/index.html',\n",
       " '/.sml/tavern/92dc26b9-2b9a-4be8-8388-72f9d013b99d/be046e8b-0e82-4474-9c42-9d0c3537788f/index.html',\n",
       " '/.sml/tavern/92dc26b9-2b9a-4be8-8388-72f9d013b99d/eb403be5-e757-4ec7-89c5-805d00adf379/index.html',\n",
       " '/input/',\n",
       " '/input/2015_stats_data_wrangler.csv',\n",
       " '/output/']"
      ]
     },
     "execution_count": 27,
     "metadata": {},
     "output_type": "execute_result"
    }
   ],
   "source": [
    "sfs.ls()"
   ]
  },
  {
   "cell_type": "markdown",
   "metadata": {},
   "source": [
    "sfs.get('PATH TO THE FILE IN SFS(above)','PATH TO WHERE YOU WANT IT')"
   ]
  },
  {
   "cell_type": "code",
   "execution_count": 28,
   "metadata": {
    "collapsed": true
   },
   "outputs": [],
   "source": [
    "sfs.get('/input/2015_stats_data_wrangler.csv','/home/sherlock/workspace/data/ben/2015_stats.csv')"
   ]
  },
  {
   "cell_type": "markdown",
   "metadata": {},
   "source": [
    "### Now lets check that worked"
   ]
  },
  {
   "cell_type": "code",
   "execution_count": 29,
   "metadata": {
    "collapsed": false
   },
   "outputs": [
    {
     "name": "stdout",
     "output_type": "stream",
     "text": [
      "/home/sherlock\n"
     ]
    }
   ],
   "source": [
    "cd"
   ]
  },
  {
   "cell_type": "code",
   "execution_count": 30,
   "metadata": {
    "collapsed": false
   },
   "outputs": [
    {
     "name": "stdout",
     "output_type": "stream",
     "text": [
      "\u001b[0m\u001b[01;34manaconda\u001b[0m/  \u001b[01;34mworkspace\u001b[0m/\r\n"
     ]
    }
   ],
   "source": [
    "ls"
   ]
  },
  {
   "cell_type": "code",
   "execution_count": 31,
   "metadata": {
    "collapsed": false
   },
   "outputs": [
    {
     "name": "stdout",
     "output_type": "stream",
     "text": [
      "/home/sherlock/workspace/data/ben\n"
     ]
    }
   ],
   "source": [
    "cd workspace/data/ben"
   ]
  },
  {
   "cell_type": "code",
   "execution_count": 32,
   "metadata": {
    "collapsed": false
   },
   "outputs": [
    {
     "name": "stdout",
     "output_type": "stream",
     "text": [
      "2015_stats.csv\r\n"
     ]
    }
   ],
   "source": [
    "ls"
   ]
  },
  {
   "cell_type": "markdown",
   "metadata": {},
   "source": [
    "# Done! \n",
    "Yep that simple!"
   ]
  },
  {
   "cell_type": "code",
   "execution_count": null,
   "metadata": {
    "collapsed": true
   },
   "outputs": [],
   "source": []
  }
 ],
 "metadata": {
  "anaconda-cloud": {},
  "kernelspec": {
   "display_name": "Python [conda env:Python3]",
   "language": "python",
   "name": "conda-env-Python3-py"
  },
  "language_info": {
   "codemirror_mode": {
    "name": "ipython",
    "version": 3
   },
   "file_extension": ".py",
   "mimetype": "text/x-python",
   "name": "python",
   "nbconvert_exporter": "python",
   "pygments_lexer": "ipython3",
   "version": "3.5.2"
  }
 },
 "nbformat": 4,
 "nbformat_minor": 2
}
