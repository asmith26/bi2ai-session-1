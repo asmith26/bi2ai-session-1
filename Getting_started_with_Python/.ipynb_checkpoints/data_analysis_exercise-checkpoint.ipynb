{
 "cells": [
  {
   "cell_type": "markdown",
   "metadata": {},
   "source": [
    "# Data Analysis in Python - Exercise"
   ]
  },
  {
   "cell_type": "code",
   "execution_count": 19,
   "metadata": {
    "collapsed": false
   },
   "outputs": [],
   "source": [
    "import pandas as pd"
   ]
  },
  {
   "cell_type": "code",
   "execution_count": 22,
   "metadata": {
    "collapsed": false
   },
   "outputs": [
    {
     "data": {
      "text/html": [
       "<div>\n",
       "<table border=\"1\" class=\"dataframe\">\n",
       "  <thead>\n",
       "    <tr style=\"text-align: right;\">\n",
       "      <th></th>\n",
       "      <th>place</th>\n",
       "      <th>type_of_meteorite</th>\n",
       "      <th>mass_g</th>\n",
       "      <th>fell_found</th>\n",
       "      <th>year</th>\n",
       "      <th>database</th>\n",
       "      <th>coordinate_1</th>\n",
       "      <th>coordinates_2</th>\n",
       "      <th>cartodb_id</th>\n",
       "      <th>created_at</th>\n",
       "      <th>updated_at</th>\n",
       "      <th>year_date</th>\n",
       "      <th>longitude</th>\n",
       "      <th>latitude</th>\n",
       "      <th>geojson</th>\n",
       "    </tr>\n",
       "  </thead>\n",
       "  <tbody>\n",
       "    <tr>\n",
       "      <th>0</th>\n",
       "      <td>Ur</td>\n",
       "      <td>Iron</td>\n",
       "      <td>0.00</td>\n",
       "      <td>Found</td>\n",
       "      <td>-2500.0</td>\n",
       "      <td>http://www.lpi.usra.edu/meteor/metbull.php?cod...</td>\n",
       "      <td>30.90000</td>\n",
       "      <td>46.01667</td>\n",
       "      <td>34242</td>\n",
       "      <td>15/02/2013 20:56</td>\n",
       "      <td>15/02/2013 21:04</td>\n",
       "      <td>NaN</td>\n",
       "      <td>46.01667</td>\n",
       "      <td>30.90000</td>\n",
       "      <td>{\"type\":\"Point\",\"coordinates\":[46.01667,30.9]}</td>\n",
       "    </tr>\n",
       "    <tr>\n",
       "      <th>1</th>\n",
       "      <td>A-881561</td>\n",
       "      <td>H4</td>\n",
       "      <td>836.87</td>\n",
       "      <td>Found</td>\n",
       "      <td>1988.0</td>\n",
       "      <td>http://www.lpi.usra.edu/meteor/metbull.php?cod...</td>\n",
       "      <td>-72.00000</td>\n",
       "      <td>26.00000</td>\n",
       "      <td>4141</td>\n",
       "      <td>15/02/2013 20:56</td>\n",
       "      <td>15/02/2013 21:11</td>\n",
       "      <td>01/01/1988 00:00</td>\n",
       "      <td>26.00000</td>\n",
       "      <td>-72.00000</td>\n",
       "      <td>{\"type\":\"Point\",\"coordinates\":[26,-72]}</td>\n",
       "    </tr>\n",
       "    <tr>\n",
       "      <th>2</th>\n",
       "      <td>Wietrzno-Bobrka</td>\n",
       "      <td>Iron</td>\n",
       "      <td>376.00</td>\n",
       "      <td>Found</td>\n",
       "      <td>-600.0</td>\n",
       "      <td>http://www.lpi.usra.edu/meteor/metbull.php?cod...</td>\n",
       "      <td>49.41667</td>\n",
       "      <td>21.70000</td>\n",
       "      <td>6037</td>\n",
       "      <td>15/02/2013 20:56</td>\n",
       "      <td>15/02/2013 21:04</td>\n",
       "      <td>NaN</td>\n",
       "      <td>21.70000</td>\n",
       "      <td>49.41667</td>\n",
       "      <td>{\"type\":\"Point\",\"coordinates\":[21.7,49.41667]}</td>\n",
       "    </tr>\n",
       "  </tbody>\n",
       "</table>\n",
       "</div>"
      ],
      "text/plain": [
       "             place type_of_meteorite  mass_g fell_found    year  \\\n",
       "0               Ur              Iron    0.00      Found -2500.0   \n",
       "1         A-881561                H4  836.87      Found  1988.0   \n",
       "2  Wietrzno-Bobrka              Iron  376.00      Found  -600.0   \n",
       "\n",
       "                                            database  coordinate_1  \\\n",
       "0  http://www.lpi.usra.edu/meteor/metbull.php?cod...      30.90000   \n",
       "1  http://www.lpi.usra.edu/meteor/metbull.php?cod...     -72.00000   \n",
       "2  http://www.lpi.usra.edu/meteor/metbull.php?cod...      49.41667   \n",
       "\n",
       "   coordinates_2  cartodb_id        created_at        updated_at  \\\n",
       "0       46.01667       34242  15/02/2013 20:56  15/02/2013 21:04   \n",
       "1       26.00000        4141  15/02/2013 20:56  15/02/2013 21:11   \n",
       "2       21.70000        6037  15/02/2013 20:56  15/02/2013 21:04   \n",
       "\n",
       "          year_date  longitude  latitude  \\\n",
       "0               NaN   46.01667  30.90000   \n",
       "1  01/01/1988 00:00   26.00000 -72.00000   \n",
       "2               NaN   21.70000  49.41667   \n",
       "\n",
       "                                          geojson  \n",
       "0  {\"type\":\"Point\",\"coordinates\":[46.01667,30.9]}  \n",
       "1         {\"type\":\"Point\",\"coordinates\":[26,-72]}  \n",
       "2  {\"type\":\"Point\",\"coordinates\":[21.7,49.41667]}  "
      ]
     },
     "execution_count": 22,
     "metadata": {},
     "output_type": "execute_result"
    }
   ],
   "source": [
    "#read a csv file from the parent folder into a dataframe\n",
    "df = pd.read_csv('meteors.csv')\n",
    "#print the \"head\" or top of the file. The (optional) argument in brackets is how many rows to print out (default n=5)\n",
    "df.head(3)"
   ]
  },
  {
   "cell_type": "markdown",
   "metadata": {},
   "source": [
    "#### Selecting rows\n",
    "You can select rows in a pandas dataframe like you would an array"
   ]
  },
  {
   "cell_type": "code",
   "execution_count": 23,
   "metadata": {
    "collapsed": false
   },
   "outputs": [
    {
     "data": {
      "text/html": [
       "<div>\n",
       "<table border=\"1\" class=\"dataframe\">\n",
       "  <thead>\n",
       "    <tr style=\"text-align: right;\">\n",
       "      <th></th>\n",
       "      <th>place</th>\n",
       "      <th>type_of_meteorite</th>\n",
       "      <th>mass_g</th>\n",
       "      <th>fell_found</th>\n",
       "      <th>year</th>\n",
       "      <th>database</th>\n",
       "      <th>coordinate_1</th>\n",
       "      <th>coordinates_2</th>\n",
       "      <th>cartodb_id</th>\n",
       "      <th>created_at</th>\n",
       "      <th>updated_at</th>\n",
       "      <th>year_date</th>\n",
       "      <th>longitude</th>\n",
       "      <th>latitude</th>\n",
       "      <th>geojson</th>\n",
       "    </tr>\n",
       "  </thead>\n",
       "  <tbody>\n",
       "    <tr>\n",
       "      <th>3</th>\n",
       "      <td>A-881448</td>\n",
       "      <td>H4</td>\n",
       "      <td>341.27</td>\n",
       "      <td>Found</td>\n",
       "      <td>1988.0</td>\n",
       "      <td>http://www.lpi.usra.edu/meteor/metbull.php?cod...</td>\n",
       "      <td>-72.0</td>\n",
       "      <td>26.0</td>\n",
       "      <td>6340</td>\n",
       "      <td>15/02/2013 20:56</td>\n",
       "      <td>15/02/2013 21:11</td>\n",
       "      <td>01/01/1988 00:00</td>\n",
       "      <td>26.0</td>\n",
       "      <td>-72.0</td>\n",
       "      <td>{\"type\":\"Point\",\"coordinates\":[26,-72]}</td>\n",
       "    </tr>\n",
       "    <tr>\n",
       "      <th>4</th>\n",
       "      <td>A-881813</td>\n",
       "      <td>L6</td>\n",
       "      <td>296.96</td>\n",
       "      <td>Found</td>\n",
       "      <td>1988.0</td>\n",
       "      <td>http://www.lpi.usra.edu/meteor/metbull.php?cod...</td>\n",
       "      <td>-72.0</td>\n",
       "      <td>26.0</td>\n",
       "      <td>6753</td>\n",
       "      <td>15/02/2013 20:56</td>\n",
       "      <td>15/02/2013 21:11</td>\n",
       "      <td>01/01/1988 00:00</td>\n",
       "      <td>26.0</td>\n",
       "      <td>-72.0</td>\n",
       "      <td>{\"type\":\"Point\",\"coordinates\":[26,-72]}</td>\n",
       "    </tr>\n",
       "  </tbody>\n",
       "</table>\n",
       "</div>"
      ],
      "text/plain": [
       "      place type_of_meteorite  mass_g fell_found    year  \\\n",
       "3  A-881448                H4  341.27      Found  1988.0   \n",
       "4  A-881813                L6  296.96      Found  1988.0   \n",
       "\n",
       "                                            database  coordinate_1  \\\n",
       "3  http://www.lpi.usra.edu/meteor/metbull.php?cod...         -72.0   \n",
       "4  http://www.lpi.usra.edu/meteor/metbull.php?cod...         -72.0   \n",
       "\n",
       "   coordinates_2  cartodb_id        created_at        updated_at  \\\n",
       "3           26.0        6340  15/02/2013 20:56  15/02/2013 21:11   \n",
       "4           26.0        6753  15/02/2013 20:56  15/02/2013 21:11   \n",
       "\n",
       "          year_date  longitude  latitude  \\\n",
       "3  01/01/1988 00:00       26.0     -72.0   \n",
       "4  01/01/1988 00:00       26.0     -72.0   \n",
       "\n",
       "                                   geojson  \n",
       "3  {\"type\":\"Point\",\"coordinates\":[26,-72]}  \n",
       "4  {\"type\":\"Point\",\"coordinates\":[26,-72]}  "
      ]
     },
     "execution_count": 23,
     "metadata": {},
     "output_type": "execute_result"
    }
   ],
   "source": [
    "df[3:5] # show the 3rd and 4th rows"
   ]
  },
  {
   "cell_type": "markdown",
   "metadata": {},
   "source": [
    "#### Selecting a column\n",
    "You can select a single or multiple columns, by passing in a list of column names"
   ]
  },
  {
   "cell_type": "code",
   "execution_count": 24,
   "metadata": {
    "collapsed": false
   },
   "outputs": [
    {
     "data": {
      "text/html": [
       "<div>\n",
       "<table border=\"1\" class=\"dataframe\">\n",
       "  <thead>\n",
       "    <tr style=\"text-align: right;\">\n",
       "      <th></th>\n",
       "      <th>place</th>\n",
       "    </tr>\n",
       "  </thead>\n",
       "  <tbody>\n",
       "    <tr>\n",
       "      <th>0</th>\n",
       "      <td>Ur</td>\n",
       "    </tr>\n",
       "    <tr>\n",
       "      <th>1</th>\n",
       "      <td>A-881561</td>\n",
       "    </tr>\n",
       "    <tr>\n",
       "      <th>2</th>\n",
       "      <td>Wietrzno-Bobrka</td>\n",
       "    </tr>\n",
       "  </tbody>\n",
       "</table>\n",
       "</div>"
      ],
      "text/plain": [
       "             place\n",
       "0               Ur\n",
       "1         A-881561\n",
       "2  Wietrzno-Bobrka"
      ]
     },
     "execution_count": 24,
     "metadata": {},
     "output_type": "execute_result"
    }
   ],
   "source": [
    "df[['place']][:3] # Selects the first 3 rows of the place column"
   ]
  },
  {
   "cell_type": "markdown",
   "metadata": {},
   "source": [
    "You can also select multiple columns"
   ]
  },
  {
   "cell_type": "code",
   "execution_count": 25,
   "metadata": {
    "collapsed": false
   },
   "outputs": [
    {
     "data": {
      "text/html": [
       "<div>\n",
       "<table border=\"1\" class=\"dataframe\">\n",
       "  <thead>\n",
       "    <tr style=\"text-align: right;\">\n",
       "      <th></th>\n",
       "      <th>mass_g</th>\n",
       "      <th>year</th>\n",
       "    </tr>\n",
       "  </thead>\n",
       "  <tbody>\n",
       "    <tr>\n",
       "      <th>0</th>\n",
       "      <td>0.00</td>\n",
       "      <td>-2500.0</td>\n",
       "    </tr>\n",
       "    <tr>\n",
       "      <th>1</th>\n",
       "      <td>836.87</td>\n",
       "      <td>1988.0</td>\n",
       "    </tr>\n",
       "    <tr>\n",
       "      <th>2</th>\n",
       "      <td>376.00</td>\n",
       "      <td>-600.0</td>\n",
       "    </tr>\n",
       "  </tbody>\n",
       "</table>\n",
       "</div>"
      ],
      "text/plain": [
       "   mass_g    year\n",
       "0    0.00 -2500.0\n",
       "1  836.87  1988.0\n",
       "2  376.00  -600.0"
      ]
     },
     "execution_count": 25,
     "metadata": {},
     "output_type": "execute_result"
    }
   ],
   "source": [
    "df[['mass_g', 'year']][:3]"
   ]
  },
  {
   "cell_type": "markdown",
   "metadata": {},
   "source": [
    "You can group by values and count using `value_counts`"
   ]
  },
  {
   "cell_type": "code",
   "execution_count": 26,
   "metadata": {
    "collapsed": false
   },
   "outputs": [
    {
     "data": {
      "text/plain": [
       "L6            6565\n",
       "H5            5620\n",
       "H4            3322\n",
       "H6            3230\n",
       "L5            2732\n",
       "Stone-uncl    1942\n",
       "LL5           1896\n",
       "LL6            961\n",
       "L4             822\n",
       "H4/5           378\n",
       "Name: type_of_meteorite, dtype: int64"
      ]
     },
     "execution_count": 26,
     "metadata": {},
     "output_type": "execute_result"
    }
   ],
   "source": [
    "df['type_of_meteorite'].value_counts()[:10]"
   ]
  },
  {
   "cell_type": "markdown",
   "metadata": {},
   "source": [
    "Columns can also be references using the SQL-like notational of df.column_name. The next cell does the same as the previous one"
   ]
  },
  {
   "cell_type": "code",
   "execution_count": 27,
   "metadata": {
    "collapsed": false
   },
   "outputs": [
    {
     "data": {
      "text/plain": [
       "L6            6565\n",
       "H5            5620\n",
       "H4            3322\n",
       "H6            3230\n",
       "L5            2732\n",
       "Stone-uncl    1942\n",
       "LL5           1896\n",
       "LL6            961\n",
       "L4             822\n",
       "H4/5           378\n",
       "Name: type_of_meteorite, dtype: int64"
      ]
     },
     "execution_count": 27,
     "metadata": {},
     "output_type": "execute_result"
    }
   ],
   "source": [
    "df.type_of_meteorite.value_counts()[:10]"
   ]
  },
  {
   "cell_type": "markdown",
   "metadata": {},
   "source": [
    "**Exercise:**<br/> Find the number of meteor impacts where the meteor itself was found"
   ]
  },
  {
   "cell_type": "code",
   "execution_count": null,
   "metadata": {
    "collapsed": false,
    "scrolled": true
   },
   "outputs": [],
   "source": []
  },
  {
   "cell_type": "markdown",
   "metadata": {},
   "source": [
    "#### Filtering\n",
    "Pandas allows you to filter a dataframe by the values in columns"
   ]
  },
  {
   "cell_type": "code",
   "execution_count": 29,
   "metadata": {
    "collapsed": false
   },
   "outputs": [
    {
     "data": {
      "text/html": [
       "<div>\n",
       "<table border=\"1\" class=\"dataframe\">\n",
       "  <thead>\n",
       "    <tr style=\"text-align: right;\">\n",
       "      <th></th>\n",
       "      <th>place</th>\n",
       "      <th>type_of_meteorite</th>\n",
       "      <th>mass_g</th>\n",
       "      <th>fell_found</th>\n",
       "      <th>year</th>\n",
       "      <th>database</th>\n",
       "      <th>coordinate_1</th>\n",
       "      <th>coordinates_2</th>\n",
       "      <th>cartodb_id</th>\n",
       "      <th>created_at</th>\n",
       "      <th>updated_at</th>\n",
       "      <th>year_date</th>\n",
       "      <th>longitude</th>\n",
       "      <th>latitude</th>\n",
       "      <th>geojson</th>\n",
       "    </tr>\n",
       "  </thead>\n",
       "  <tbody>\n",
       "    <tr>\n",
       "      <th>447</th>\n",
       "      <td>Xifu</td>\n",
       "      <td>Iron, IAB complex</td>\n",
       "      <td>3000000.0</td>\n",
       "      <td>Found</td>\n",
       "      <td>2004.0</td>\n",
       "      <td>http://www.lpi.usra.edu/meteor/metbull.php?cod...</td>\n",
       "      <td>36.30000</td>\n",
       "      <td>120.48333</td>\n",
       "      <td>22</td>\n",
       "      <td>15/02/2013 20:56</td>\n",
       "      <td>15/02/2013 21:11</td>\n",
       "      <td>01/01/2004 00:00</td>\n",
       "      <td>120.48333</td>\n",
       "      <td>36.30000</td>\n",
       "      <td>{\"type\":\"Point\",\"coordinates\":[120.48333,36.3]}</td>\n",
       "    </tr>\n",
       "    <tr>\n",
       "      <th>448</th>\n",
       "      <td>Al Haggounia 001</td>\n",
       "      <td>Aubrite</td>\n",
       "      <td>3000000.0</td>\n",
       "      <td>Found</td>\n",
       "      <td>2006.0</td>\n",
       "      <td>http://www.lpi.usra.edu/meteor/metbull.php?cod...</td>\n",
       "      <td>27.50000</td>\n",
       "      <td>-12.50000</td>\n",
       "      <td>23</td>\n",
       "      <td>15/02/2013 20:56</td>\n",
       "      <td>15/02/2013 21:11</td>\n",
       "      <td>01/01/2006 00:00</td>\n",
       "      <td>-12.50000</td>\n",
       "      <td>27.50000</td>\n",
       "      <td>{\"type\":\"Point\",\"coordinates\":[-12.5,27.5]}</td>\n",
       "    </tr>\n",
       "    <tr>\n",
       "      <th>460</th>\n",
       "      <td>Gebel Kamil</td>\n",
       "      <td>Iron, ungrouped</td>\n",
       "      <td>1600000.0</td>\n",
       "      <td>Found</td>\n",
       "      <td>2009.0</td>\n",
       "      <td>http://www.lpi.usra.edu/meteor/metbull.php?cod...</td>\n",
       "      <td>22.01833</td>\n",
       "      <td>26.08778</td>\n",
       "      <td>35</td>\n",
       "      <td>15/02/2013 20:56</td>\n",
       "      <td>15/02/2013 21:11</td>\n",
       "      <td>01/01/2009 00:00</td>\n",
       "      <td>26.08778</td>\n",
       "      <td>22.01833</td>\n",
       "      <td>{\"type\":\"Point\",\"coordinates\":[26.08778,22.018...</td>\n",
       "    </tr>\n",
       "  </tbody>\n",
       "</table>\n",
       "</div>"
      ],
      "text/plain": [
       "                place  type_of_meteorite     mass_g fell_found    year  \\\n",
       "447              Xifu  Iron, IAB complex  3000000.0      Found  2004.0   \n",
       "448  Al Haggounia 001            Aubrite  3000000.0      Found  2006.0   \n",
       "460       Gebel Kamil    Iron, ungrouped  1600000.0      Found  2009.0   \n",
       "\n",
       "                                              database  coordinate_1  \\\n",
       "447  http://www.lpi.usra.edu/meteor/metbull.php?cod...      36.30000   \n",
       "448  http://www.lpi.usra.edu/meteor/metbull.php?cod...      27.50000   \n",
       "460  http://www.lpi.usra.edu/meteor/metbull.php?cod...      22.01833   \n",
       "\n",
       "     coordinates_2  cartodb_id        created_at        updated_at  \\\n",
       "447      120.48333          22  15/02/2013 20:56  15/02/2013 21:11   \n",
       "448      -12.50000          23  15/02/2013 20:56  15/02/2013 21:11   \n",
       "460       26.08778          35  15/02/2013 20:56  15/02/2013 21:11   \n",
       "\n",
       "            year_date  longitude  latitude  \\\n",
       "447  01/01/2004 00:00  120.48333  36.30000   \n",
       "448  01/01/2006 00:00  -12.50000  27.50000   \n",
       "460  01/01/2009 00:00   26.08778  22.01833   \n",
       "\n",
       "                                               geojson  \n",
       "447    {\"type\":\"Point\",\"coordinates\":[120.48333,36.3]}  \n",
       "448        {\"type\":\"Point\",\"coordinates\":[-12.5,27.5]}  \n",
       "460  {\"type\":\"Point\",\"coordinates\":[26.08778,22.018...  "
      ]
     },
     "execution_count": 29,
     "metadata": {},
     "output_type": "execute_result"
    }
   ],
   "source": [
    "# filter by impacts after 1999, i.e. dataframe where it is true that df.year > 1999\n",
    "after1999 = df[df['year'] > 1999] \n",
    "# only print the 1st 3\n",
    "after1999[:3] "
   ]
  },
  {
   "cell_type": "markdown",
   "metadata": {},
   "source": [
    "Visualise what the above actually does"
   ]
  },
  {
   "cell_type": "code",
   "execution_count": 70,
   "metadata": {
    "collapsed": false,
    "scrolled": true
   },
   "outputs": [
    {
     "name": "stdout",
     "output_type": "stream",
     "text": [
      "<<- click over here to reduce framesize of cell output \n",
      "\n",
      "0        False\n",
      "1        False\n",
      "2        False\n",
      "3        False\n",
      "4        False\n",
      "5        False\n",
      "6        False\n",
      "7        False\n",
      "8        False\n",
      "9        False\n",
      "10       False\n",
      "11       False\n",
      "12       False\n",
      "13       False\n",
      "14       False\n",
      "15       False\n",
      "16       False\n",
      "17       False\n",
      "18       False\n",
      "19       False\n",
      "20       False\n",
      "21       False\n",
      "22       False\n",
      "23       False\n",
      "24       False\n",
      "25       False\n",
      "26       False\n",
      "27       False\n",
      "28       False\n",
      "29       False\n",
      "         ...  \n",
      "34483     True\n",
      "34484     True\n",
      "34485     True\n",
      "34486     True\n",
      "34487     True\n",
      "34488     True\n",
      "34489     True\n",
      "34490     True\n",
      "34491     True\n",
      "34492     True\n",
      "34493     True\n",
      "34494     True\n",
      "34495     True\n",
      "34496     True\n",
      "34497     True\n",
      "34498     True\n",
      "34499     True\n",
      "34500     True\n",
      "34501     True\n",
      "34502     True\n",
      "34503     True\n",
      "34504     True\n",
      "34505     True\n",
      "34506     True\n",
      "34507     True\n",
      "34508     True\n",
      "34509     True\n",
      "34510     True\n",
      "34511     True\n",
      "34512     True\n",
      "Name: year, dtype: bool\n"
     ]
    }
   ],
   "source": [
    "# to minimize the long array we are about to print and keep the notebook tidy\n",
    "# you can click the cell output, just to the left of the index\n",
    "print (\"<<- click over here to reduce framesize of cell output \\n\")\n",
    "\n",
    "# filter for after 1999\n",
    "after1999 = df['year'] >1999 \n",
    "# It evaluates the condition (df['year'] >1999) for every row in df and creates a boolean array\n",
    "print (after1999)\n"
   ]
  },
  {
   "cell_type": "markdown",
   "metadata": {},
   "source": [
    "We can filter on multiple columns"
   ]
  },
  {
   "cell_type": "code",
   "execution_count": 33,
   "metadata": {
    "collapsed": false
   },
   "outputs": [
    {
     "data": {
      "text/html": [
       "<div>\n",
       "<table border=\"1\" class=\"dataframe\">\n",
       "  <thead>\n",
       "    <tr style=\"text-align: right;\">\n",
       "      <th></th>\n",
       "      <th>place</th>\n",
       "      <th>type_of_meteorite</th>\n",
       "      <th>mass_g</th>\n",
       "      <th>fell_found</th>\n",
       "      <th>year</th>\n",
       "      <th>database</th>\n",
       "      <th>coordinate_1</th>\n",
       "      <th>coordinates_2</th>\n",
       "      <th>cartodb_id</th>\n",
       "      <th>created_at</th>\n",
       "      <th>updated_at</th>\n",
       "      <th>year_date</th>\n",
       "      <th>longitude</th>\n",
       "      <th>latitude</th>\n",
       "      <th>geojson</th>\n",
       "    </tr>\n",
       "  </thead>\n",
       "  <tbody>\n",
       "    <tr>\n",
       "      <th>497</th>\n",
       "      <td>JaH 073</td>\n",
       "      <td>L6</td>\n",
       "      <td>550000.0</td>\n",
       "      <td>Found</td>\n",
       "      <td>2002.0</td>\n",
       "      <td>http://www.lpi.usra.edu/meteor/metbull.php?cod...</td>\n",
       "      <td>19.70000</td>\n",
       "      <td>55.73333</td>\n",
       "      <td>73</td>\n",
       "      <td>15/02/2013 20:56</td>\n",
       "      <td>15/02/2013 21:11</td>\n",
       "      <td>01/01/2002 00:00</td>\n",
       "      <td>55.73333</td>\n",
       "      <td>19.70000</td>\n",
       "      <td>{\"type\":\"Point\",\"coordinates\":[55.73333,19.7]}</td>\n",
       "    </tr>\n",
       "    <tr>\n",
       "      <th>620</th>\n",
       "      <td>Jalu</td>\n",
       "      <td>L6</td>\n",
       "      <td>150000.0</td>\n",
       "      <td>Found</td>\n",
       "      <td>2000.0</td>\n",
       "      <td>http://www.lpi.usra.edu/meteor/metbull.php?cod...</td>\n",
       "      <td>27.95833</td>\n",
       "      <td>21.68333</td>\n",
       "      <td>195</td>\n",
       "      <td>15/02/2013 20:56</td>\n",
       "      <td>15/02/2013 21:11</td>\n",
       "      <td>01/01/2000 00:00</td>\n",
       "      <td>21.68333</td>\n",
       "      <td>27.95833</td>\n",
       "      <td>{\"type\":\"Point\",\"coordinates\":[21.68333,27.958...</td>\n",
       "    </tr>\n",
       "    <tr>\n",
       "      <th>649</th>\n",
       "      <td>Dho 005</td>\n",
       "      <td>L6</td>\n",
       "      <td>125500.0</td>\n",
       "      <td>Found</td>\n",
       "      <td>2000.0</td>\n",
       "      <td>http://www.lpi.usra.edu/meteor/metbull.php?cod...</td>\n",
       "      <td>18.16667</td>\n",
       "      <td>54.16667</td>\n",
       "      <td>226</td>\n",
       "      <td>15/02/2013 20:56</td>\n",
       "      <td>15/02/2013 21:11</td>\n",
       "      <td>01/01/2000 00:00</td>\n",
       "      <td>54.16667</td>\n",
       "      <td>18.16667</td>\n",
       "      <td>{\"type\":\"Point\",\"coordinates\":[54.16667,18.166...</td>\n",
       "    </tr>\n",
       "  </tbody>\n",
       "</table>\n",
       "</div>"
      ],
      "text/plain": [
       "       place type_of_meteorite    mass_g fell_found    year  \\\n",
       "497  JaH 073                L6  550000.0      Found  2002.0   \n",
       "620     Jalu                L6  150000.0      Found  2000.0   \n",
       "649  Dho 005                L6  125500.0      Found  2000.0   \n",
       "\n",
       "                                              database  coordinate_1  \\\n",
       "497  http://www.lpi.usra.edu/meteor/metbull.php?cod...      19.70000   \n",
       "620  http://www.lpi.usra.edu/meteor/metbull.php?cod...      27.95833   \n",
       "649  http://www.lpi.usra.edu/meteor/metbull.php?cod...      18.16667   \n",
       "\n",
       "     coordinates_2  cartodb_id        created_at        updated_at  \\\n",
       "497       55.73333          73  15/02/2013 20:56  15/02/2013 21:11   \n",
       "620       21.68333         195  15/02/2013 20:56  15/02/2013 21:11   \n",
       "649       54.16667         226  15/02/2013 20:56  15/02/2013 21:11   \n",
       "\n",
       "            year_date  longitude  latitude  \\\n",
       "497  01/01/2002 00:00   55.73333  19.70000   \n",
       "620  01/01/2000 00:00   21.68333  27.95833   \n",
       "649  01/01/2000 00:00   54.16667  18.16667   \n",
       "\n",
       "                                               geojson  \n",
       "497     {\"type\":\"Point\",\"coordinates\":[55.73333,19.7]}  \n",
       "620  {\"type\":\"Point\",\"coordinates\":[21.68333,27.958...  \n",
       "649  {\"type\":\"Point\",\"coordinates\":[54.16667,18.166...  "
      ]
     },
     "execution_count": 33,
     "metadata": {},
     "output_type": "execute_result"
    }
   ],
   "source": [
    "# filter for meteor type\n",
    "mtype = df['type_of_meteorite'] == \"L6\" \n",
    "# apply both filters and show top 3 results\n",
    "df[after1999 & mtype][:3] "
   ]
  },
  {
   "cell_type": "markdown",
   "metadata": {},
   "source": [
    "**Exercise:**<br/>\n",
    "Find all meteor impacts over 20000000g after 1900"
   ]
  },
  {
   "cell_type": "code",
   "execution_count": null,
   "metadata": {
    "collapsed": false
   },
   "outputs": [],
   "source": []
  },
  {
   "cell_type": "markdown",
   "metadata": {},
   "source": [
    "#### Sorting\n",
    "You can sort a Dataframe by any of the columns"
   ]
  },
  {
   "cell_type": "code",
   "execution_count": 35,
   "metadata": {
    "collapsed": false
   },
   "outputs": [
    {
     "data": {
      "text/html": [
       "<div>\n",
       "<table border=\"1\" class=\"dataframe\">\n",
       "  <thead>\n",
       "    <tr style=\"text-align: right;\">\n",
       "      <th></th>\n",
       "      <th>place</th>\n",
       "      <th>type_of_meteorite</th>\n",
       "      <th>mass_g</th>\n",
       "      <th>fell_found</th>\n",
       "      <th>year</th>\n",
       "      <th>database</th>\n",
       "      <th>coordinate_1</th>\n",
       "      <th>coordinates_2</th>\n",
       "      <th>cartodb_id</th>\n",
       "      <th>created_at</th>\n",
       "      <th>updated_at</th>\n",
       "      <th>year_date</th>\n",
       "      <th>longitude</th>\n",
       "      <th>latitude</th>\n",
       "      <th>geojson</th>\n",
       "    </tr>\n",
       "  </thead>\n",
       "  <tbody>\n",
       "    <tr>\n",
       "      <th>426</th>\n",
       "      <td>Hoba</td>\n",
       "      <td>Iron, IVB</td>\n",
       "      <td>60000000.0</td>\n",
       "      <td>Found</td>\n",
       "      <td>1920.0</td>\n",
       "      <td>http://www.lpi.usra.edu/meteor/metbull.php?cod...</td>\n",
       "      <td>-19.58333</td>\n",
       "      <td>17.91667</td>\n",
       "      <td>1</td>\n",
       "      <td>15/02/2013 20:56</td>\n",
       "      <td>15/02/2013 21:11</td>\n",
       "      <td>01/01/2020 00:00</td>\n",
       "      <td>17.91667</td>\n",
       "      <td>-19.58333</td>\n",
       "      <td>{\"type\":\"Point\",\"coordinates\":[17.91667,-19.58...</td>\n",
       "    </tr>\n",
       "    <tr>\n",
       "      <th>427</th>\n",
       "      <td>Cape York</td>\n",
       "      <td>Iron, IIIAB</td>\n",
       "      <td>58200000.0</td>\n",
       "      <td>Found</td>\n",
       "      <td>1818.0</td>\n",
       "      <td>http://www.lpi.usra.edu/meteor/metbull.php?cod...</td>\n",
       "      <td>76.13333</td>\n",
       "      <td>-64.93333</td>\n",
       "      <td>2</td>\n",
       "      <td>15/02/2013 20:56</td>\n",
       "      <td>15/02/2013 21:11</td>\n",
       "      <td>1818-01-01 00:00:00</td>\n",
       "      <td>-64.93333</td>\n",
       "      <td>76.13333</td>\n",
       "      <td>{\"type\":\"Point\",\"coordinates\":[-64.93333,76.13...</td>\n",
       "    </tr>\n",
       "    <tr>\n",
       "      <th>428</th>\n",
       "      <td>Campo del Cielo</td>\n",
       "      <td>Iron, IAB-MG</td>\n",
       "      <td>50000000.0</td>\n",
       "      <td>Found</td>\n",
       "      <td>1576.0</td>\n",
       "      <td>http://www.lpi.usra.edu/meteor/metbull.php?cod...</td>\n",
       "      <td>-27.46667</td>\n",
       "      <td>-60.58333</td>\n",
       "      <td>3</td>\n",
       "      <td>15/02/2013 20:56</td>\n",
       "      <td>15/02/2013 21:11</td>\n",
       "      <td>1576-01-01 00:00:00</td>\n",
       "      <td>-60.58333</td>\n",
       "      <td>-27.46667</td>\n",
       "      <td>{\"type\":\"Point\",\"coordinates\":[-60.58333,-27.4...</td>\n",
       "    </tr>\n",
       "    <tr>\n",
       "      <th>429</th>\n",
       "      <td>Canyon Diablo</td>\n",
       "      <td>Iron, IAB-MG</td>\n",
       "      <td>30000000.0</td>\n",
       "      <td>Found</td>\n",
       "      <td>1891.0</td>\n",
       "      <td>http://www.lpi.usra.edu/meteor/metbull.php?cod...</td>\n",
       "      <td>35.05000</td>\n",
       "      <td>-111.03333</td>\n",
       "      <td>4</td>\n",
       "      <td>15/02/2013 20:56</td>\n",
       "      <td>15/02/2013 21:11</td>\n",
       "      <td>1891-01-01 00:00:00</td>\n",
       "      <td>-111.03333</td>\n",
       "      <td>35.05000</td>\n",
       "      <td>{\"type\":\"Point\",\"coordinates\":[-111.03333,35.05]}</td>\n",
       "    </tr>\n",
       "    <tr>\n",
       "      <th>430</th>\n",
       "      <td>Armanty</td>\n",
       "      <td>Iron, IIIE</td>\n",
       "      <td>28000000.0</td>\n",
       "      <td>Found</td>\n",
       "      <td>1898.0</td>\n",
       "      <td>http://www.lpi.usra.edu/meteor/metbull.php?cod...</td>\n",
       "      <td>47.00000</td>\n",
       "      <td>88.00000</td>\n",
       "      <td>5</td>\n",
       "      <td>15/02/2013 20:56</td>\n",
       "      <td>15/02/2013 21:11</td>\n",
       "      <td>1898-01-01 00:00:00</td>\n",
       "      <td>88.00000</td>\n",
       "      <td>47.00000</td>\n",
       "      <td>{\"type\":\"Point\",\"coordinates\":[88,47]}</td>\n",
       "    </tr>\n",
       "  </tbody>\n",
       "</table>\n",
       "</div>"
      ],
      "text/plain": [
       "               place type_of_meteorite      mass_g fell_found    year  \\\n",
       "426             Hoba         Iron, IVB  60000000.0      Found  1920.0   \n",
       "427        Cape York       Iron, IIIAB  58200000.0      Found  1818.0   \n",
       "428  Campo del Cielo      Iron, IAB-MG  50000000.0      Found  1576.0   \n",
       "429    Canyon Diablo      Iron, IAB-MG  30000000.0      Found  1891.0   \n",
       "430          Armanty        Iron, IIIE  28000000.0      Found  1898.0   \n",
       "\n",
       "                                              database  coordinate_1  \\\n",
       "426  http://www.lpi.usra.edu/meteor/metbull.php?cod...     -19.58333   \n",
       "427  http://www.lpi.usra.edu/meteor/metbull.php?cod...      76.13333   \n",
       "428  http://www.lpi.usra.edu/meteor/metbull.php?cod...     -27.46667   \n",
       "429  http://www.lpi.usra.edu/meteor/metbull.php?cod...      35.05000   \n",
       "430  http://www.lpi.usra.edu/meteor/metbull.php?cod...      47.00000   \n",
       "\n",
       "     coordinates_2  cartodb_id        created_at        updated_at  \\\n",
       "426       17.91667           1  15/02/2013 20:56  15/02/2013 21:11   \n",
       "427      -64.93333           2  15/02/2013 20:56  15/02/2013 21:11   \n",
       "428      -60.58333           3  15/02/2013 20:56  15/02/2013 21:11   \n",
       "429     -111.03333           4  15/02/2013 20:56  15/02/2013 21:11   \n",
       "430       88.00000           5  15/02/2013 20:56  15/02/2013 21:11   \n",
       "\n",
       "               year_date  longitude  latitude  \\\n",
       "426     01/01/2020 00:00   17.91667 -19.58333   \n",
       "427  1818-01-01 00:00:00  -64.93333  76.13333   \n",
       "428  1576-01-01 00:00:00  -60.58333 -27.46667   \n",
       "429  1891-01-01 00:00:00 -111.03333  35.05000   \n",
       "430  1898-01-01 00:00:00   88.00000  47.00000   \n",
       "\n",
       "                                               geojson  \n",
       "426  {\"type\":\"Point\",\"coordinates\":[17.91667,-19.58...  \n",
       "427  {\"type\":\"Point\",\"coordinates\":[-64.93333,76.13...  \n",
       "428  {\"type\":\"Point\",\"coordinates\":[-60.58333,-27.4...  \n",
       "429  {\"type\":\"Point\",\"coordinates\":[-111.03333,35.05]}  \n",
       "430             {\"type\":\"Point\",\"coordinates\":[88,47]}  "
      ]
     },
     "execution_count": 35,
     "metadata": {},
     "output_type": "execute_result"
    }
   ],
   "source": [
    "# Show the (5) heaviest meteor impacts\n",
    "df.sort_values(by='mass_g', ascending=[False])[0:5] "
   ]
  },
  {
   "cell_type": "markdown",
   "metadata": {},
   "source": [
    "# Indexing\n",
    "But be careful. Each entry has an index which it is given as it is read in from the data file. Normally this is sequential but you can confirm this by printing out df.head() and noting that the first (unlabelled) column contains sequential integers. "
   ]
  },
  {
   "cell_type": "code",
   "execution_count": 36,
   "metadata": {
    "collapsed": false
   },
   "outputs": [
    {
     "data": {
      "text/html": [
       "<div>\n",
       "<table border=\"1\" class=\"dataframe\">\n",
       "  <thead>\n",
       "    <tr style=\"text-align: right;\">\n",
       "      <th></th>\n",
       "      <th>place</th>\n",
       "      <th>type_of_meteorite</th>\n",
       "      <th>mass_g</th>\n",
       "      <th>fell_found</th>\n",
       "      <th>year</th>\n",
       "      <th>database</th>\n",
       "      <th>coordinate_1</th>\n",
       "      <th>coordinates_2</th>\n",
       "      <th>cartodb_id</th>\n",
       "      <th>created_at</th>\n",
       "      <th>updated_at</th>\n",
       "      <th>year_date</th>\n",
       "      <th>longitude</th>\n",
       "      <th>latitude</th>\n",
       "      <th>geojson</th>\n",
       "    </tr>\n",
       "  </thead>\n",
       "  <tbody>\n",
       "    <tr>\n",
       "      <th>0</th>\n",
       "      <td>Ur</td>\n",
       "      <td>Iron</td>\n",
       "      <td>0.00</td>\n",
       "      <td>Found</td>\n",
       "      <td>-2500.0</td>\n",
       "      <td>http://www.lpi.usra.edu/meteor/metbull.php?cod...</td>\n",
       "      <td>30.90000</td>\n",
       "      <td>46.01667</td>\n",
       "      <td>34242</td>\n",
       "      <td>15/02/2013 20:56</td>\n",
       "      <td>15/02/2013 21:04</td>\n",
       "      <td>NaN</td>\n",
       "      <td>46.01667</td>\n",
       "      <td>30.90000</td>\n",
       "      <td>{\"type\":\"Point\",\"coordinates\":[46.01667,30.9]}</td>\n",
       "    </tr>\n",
       "    <tr>\n",
       "      <th>1</th>\n",
       "      <td>A-881561</td>\n",
       "      <td>H4</td>\n",
       "      <td>836.87</td>\n",
       "      <td>Found</td>\n",
       "      <td>1988.0</td>\n",
       "      <td>http://www.lpi.usra.edu/meteor/metbull.php?cod...</td>\n",
       "      <td>-72.00000</td>\n",
       "      <td>26.00000</td>\n",
       "      <td>4141</td>\n",
       "      <td>15/02/2013 20:56</td>\n",
       "      <td>15/02/2013 21:11</td>\n",
       "      <td>01/01/1988 00:00</td>\n",
       "      <td>26.00000</td>\n",
       "      <td>-72.00000</td>\n",
       "      <td>{\"type\":\"Point\",\"coordinates\":[26,-72]}</td>\n",
       "    </tr>\n",
       "    <tr>\n",
       "      <th>2</th>\n",
       "      <td>Wietrzno-Bobrka</td>\n",
       "      <td>Iron</td>\n",
       "      <td>376.00</td>\n",
       "      <td>Found</td>\n",
       "      <td>-600.0</td>\n",
       "      <td>http://www.lpi.usra.edu/meteor/metbull.php?cod...</td>\n",
       "      <td>49.41667</td>\n",
       "      <td>21.70000</td>\n",
       "      <td>6037</td>\n",
       "      <td>15/02/2013 20:56</td>\n",
       "      <td>15/02/2013 21:04</td>\n",
       "      <td>NaN</td>\n",
       "      <td>21.70000</td>\n",
       "      <td>49.41667</td>\n",
       "      <td>{\"type\":\"Point\",\"coordinates\":[21.7,49.41667]}</td>\n",
       "    </tr>\n",
       "    <tr>\n",
       "      <th>3</th>\n",
       "      <td>A-881448</td>\n",
       "      <td>H4</td>\n",
       "      <td>341.27</td>\n",
       "      <td>Found</td>\n",
       "      <td>1988.0</td>\n",
       "      <td>http://www.lpi.usra.edu/meteor/metbull.php?cod...</td>\n",
       "      <td>-72.00000</td>\n",
       "      <td>26.00000</td>\n",
       "      <td>6340</td>\n",
       "      <td>15/02/2013 20:56</td>\n",
       "      <td>15/02/2013 21:11</td>\n",
       "      <td>01/01/1988 00:00</td>\n",
       "      <td>26.00000</td>\n",
       "      <td>-72.00000</td>\n",
       "      <td>{\"type\":\"Point\",\"coordinates\":[26,-72]}</td>\n",
       "    </tr>\n",
       "    <tr>\n",
       "      <th>4</th>\n",
       "      <td>A-881813</td>\n",
       "      <td>L6</td>\n",
       "      <td>296.96</td>\n",
       "      <td>Found</td>\n",
       "      <td>1988.0</td>\n",
       "      <td>http://www.lpi.usra.edu/meteor/metbull.php?cod...</td>\n",
       "      <td>-72.00000</td>\n",
       "      <td>26.00000</td>\n",
       "      <td>6753</td>\n",
       "      <td>15/02/2013 20:56</td>\n",
       "      <td>15/02/2013 21:11</td>\n",
       "      <td>01/01/1988 00:00</td>\n",
       "      <td>26.00000</td>\n",
       "      <td>-72.00000</td>\n",
       "      <td>{\"type\":\"Point\",\"coordinates\":[26,-72]}</td>\n",
       "    </tr>\n",
       "  </tbody>\n",
       "</table>\n",
       "</div>"
      ],
      "text/plain": [
       "             place type_of_meteorite  mass_g fell_found    year  \\\n",
       "0               Ur              Iron    0.00      Found -2500.0   \n",
       "1         A-881561                H4  836.87      Found  1988.0   \n",
       "2  Wietrzno-Bobrka              Iron  376.00      Found  -600.0   \n",
       "3         A-881448                H4  341.27      Found  1988.0   \n",
       "4         A-881813                L6  296.96      Found  1988.0   \n",
       "\n",
       "                                            database  coordinate_1  \\\n",
       "0  http://www.lpi.usra.edu/meteor/metbull.php?cod...      30.90000   \n",
       "1  http://www.lpi.usra.edu/meteor/metbull.php?cod...     -72.00000   \n",
       "2  http://www.lpi.usra.edu/meteor/metbull.php?cod...      49.41667   \n",
       "3  http://www.lpi.usra.edu/meteor/metbull.php?cod...     -72.00000   \n",
       "4  http://www.lpi.usra.edu/meteor/metbull.php?cod...     -72.00000   \n",
       "\n",
       "   coordinates_2  cartodb_id        created_at        updated_at  \\\n",
       "0       46.01667       34242  15/02/2013 20:56  15/02/2013 21:04   \n",
       "1       26.00000        4141  15/02/2013 20:56  15/02/2013 21:11   \n",
       "2       21.70000        6037  15/02/2013 20:56  15/02/2013 21:04   \n",
       "3       26.00000        6340  15/02/2013 20:56  15/02/2013 21:11   \n",
       "4       26.00000        6753  15/02/2013 20:56  15/02/2013 21:11   \n",
       "\n",
       "          year_date  longitude  latitude  \\\n",
       "0               NaN   46.01667  30.90000   \n",
       "1  01/01/1988 00:00   26.00000 -72.00000   \n",
       "2               NaN   21.70000  49.41667   \n",
       "3  01/01/1988 00:00   26.00000 -72.00000   \n",
       "4  01/01/1988 00:00   26.00000 -72.00000   \n",
       "\n",
       "                                          geojson  \n",
       "0  {\"type\":\"Point\",\"coordinates\":[46.01667,30.9]}  \n",
       "1         {\"type\":\"Point\",\"coordinates\":[26,-72]}  \n",
       "2  {\"type\":\"Point\",\"coordinates\":[21.7,49.41667]}  \n",
       "3         {\"type\":\"Point\",\"coordinates\":[26,-72]}  \n",
       "4         {\"type\":\"Point\",\"coordinates\":[26,-72]}  "
      ]
     },
     "execution_count": 36,
     "metadata": {},
     "output_type": "execute_result"
    }
   ],
   "source": [
    "df.head()"
   ]
  },
  {
   "cell_type": "markdown",
   "metadata": {},
   "source": [
    "^ These labels remain the same even after you have sorted the data, so the label of the top entry when sorted by `mass_g` is then not 0 but 426, meaning the 426th entry in the data set is the heaviest meteor. In the next cell, experiment with `.ix` and `.iloc`"
   ]
  },
  {
   "cell_type": "code",
   "execution_count": 55,
   "metadata": {
    "collapsed": false
   },
   "outputs": [
    {
     "name": "stdout",
     "output_type": "stream",
     "text": [
      "place                                                             Hoba\n",
      "type_of_meteorite                                            Iron, IVB\n",
      "mass_g                                                           6e+07\n",
      "fell_found                                                       Found\n",
      "year                                                              1920\n",
      "database             http://www.lpi.usra.edu/meteor/metbull.php?cod...\n",
      "coordinate_1                                                  -19.5833\n",
      "coordinates_2                                                  17.9167\n",
      "cartodb_id                                                           1\n",
      "created_at                                            15/02/2013 20:56\n",
      "updated_at                                            15/02/2013 21:11\n",
      "year_date                                             01/01/2020 00:00\n",
      "longitude                                                      17.9167\n",
      "latitude                                                      -19.5833\n",
      "geojson              {\"type\":\"Point\",\"coordinates\":[17.91667,-19.58...\n",
      "Name: 426, dtype: object\n",
      "\n",
      "place                                                             Hoba\n",
      "type_of_meteorite                                            Iron, IVB\n",
      "mass_g                                                           6e+07\n",
      "fell_found                                                       Found\n",
      "year                                                              1920\n",
      "database             http://www.lpi.usra.edu/meteor/metbull.php?cod...\n",
      "coordinate_1                                                  -19.5833\n",
      "coordinates_2                                                  17.9167\n",
      "cartodb_id                                                           1\n",
      "created_at                                            15/02/2013 20:56\n",
      "updated_at                                            15/02/2013 21:11\n",
      "year_date                                             01/01/2020 00:00\n",
      "longitude                                                      17.9167\n",
      "latitude                                                      -19.5833\n",
      "geojson              {\"type\":\"Point\",\"coordinates\":[17.91667,-19.58...\n",
      "Name: 426, dtype: object\n"
     ]
    }
   ],
   "source": [
    "#In both cases, we sort the original dataframe by mass with the heaviest first, as was done above. \n",
    "#In the first case, we ask for the mass of the meteor with index 426 (.ix[426]['mass_g'])\n",
    "print (df.sort_values(by='mass_g', ascending=[False]).ix[426])\n",
    "\n",
    "print ()\n",
    "#In the second case, we use the (sequential) index location or iloc\n",
    "print (df.sort_values(by='mass_g', ascending=[False]).iloc[0])"
   ]
  },
  {
   "cell_type": "markdown",
   "metadata": {},
   "source": [
    "We can also access columns with `.ix` or `.iloc` by adding a second argument"
   ]
  },
  {
   "cell_type": "code",
   "execution_count": 57,
   "metadata": {
    "collapsed": false,
    "scrolled": true
   },
   "outputs": [
    {
     "data": {
      "text/plain": [
       "426      60000000.0\n",
       "427      58200000.0\n",
       "428      50000000.0\n",
       "429      30000000.0\n",
       "430      28000000.0\n",
       "431      26000000.0\n",
       "432      24300000.0\n",
       "433      24000000.0\n",
       "434      23000000.0\n",
       "435      22000000.0\n",
       "436      16000000.0\n",
       "437      15500000.0\n",
       "438      10100000.0\n",
       "439       9500000.0\n",
       "440       8600000.0\n",
       "441       7000000.0\n",
       "442       5360000.0\n",
       "443       4300000.0\n",
       "444       4000000.0\n",
       "445       3828000.0\n",
       "446       3000000.0\n",
       "448       3000000.0\n",
       "447       3000000.0\n",
       "449       2753000.0\n",
       "450       2550000.0\n",
       "451       2300000.0\n",
       "452       2184000.0\n",
       "453       2100000.0\n",
       "454       2000000.0\n",
       "455       2000000.0\n",
       "            ...    \n",
       "281             0.0\n",
       "305             0.0\n",
       "307             0.0\n",
       "333             0.0\n",
       "321             0.0\n",
       "332             0.0\n",
       "331             0.0\n",
       "330             0.0\n",
       "329             0.0\n",
       "328             0.0\n",
       "327             0.0\n",
       "326             0.0\n",
       "325             0.0\n",
       "324             0.0\n",
       "323             0.0\n",
       "322             0.0\n",
       "320             0.0\n",
       "308             0.0\n",
       "319             0.0\n",
       "318             0.0\n",
       "317             0.0\n",
       "316             0.0\n",
       "315             0.0\n",
       "314             0.0\n",
       "313             0.0\n",
       "312             0.0\n",
       "311             0.0\n",
       "310             0.0\n",
       "309             0.0\n",
       "34512           0.0\n",
       "Name: mass_g, dtype: float64"
      ]
     },
     "execution_count": 57,
     "metadata": {},
     "output_type": "execute_result"
    }
   ],
   "source": [
    "# sorted dataframe and print all rows of third columns\n",
    "df.sort_values(by='mass_g', ascending=[False]).iloc[:, 2]"
   ]
  },
  {
   "cell_type": "code",
   "execution_count": 58,
   "metadata": {
    "collapsed": false
   },
   "outputs": [
    {
     "name": "stdout",
     "output_type": "stream",
     "text": [
      "426    60000000.0\n",
      "427    58200000.0\n",
      "428    50000000.0\n",
      "429    30000000.0\n",
      "430    28000000.0\n",
      "431    26000000.0\n",
      "432    24300000.0\n",
      "433    24000000.0\n",
      "434    23000000.0\n",
      "435    22000000.0\n",
      "436    16000000.0\n",
      "437    15500000.0\n",
      "438    10100000.0\n",
      "439     9500000.0\n",
      "440     8600000.0\n",
      "Name: mass_g, dtype: float64\n"
     ]
    }
   ],
   "source": [
    "#Tying this together, the following script will print out the masses of the heaviest 15 meteors\n",
    "mass_sorted_df = df.sort_values(by='mass_g', ascending=[False])\n",
    "print ((mass_sorted_df.iloc[:15])['mass_g'])"
   ]
  },
  {
   "cell_type": "markdown",
   "metadata": {},
   "source": [
    "### Numpy\n",
    "Provides multi-dimensional arrays (e.g. vectors, matrices, ...) and generally comes in handy when we want to do quick mathematical calculations on our dataframes. So let's start by importing it"
   ]
  },
  {
   "cell_type": "code",
   "execution_count": 71,
   "metadata": {
    "collapsed": false
   },
   "outputs": [],
   "source": [
    "import numpy as np"
   ]
  },
  {
   "cell_type": "markdown",
   "metadata": {},
   "source": [
    "#### Usually in notebooks we import all the modules at the top\n",
    "\n",
    "Numpy makes it very easy to create multi-dimensional arrays"
   ]
  },
  {
   "cell_type": "code",
   "execution_count": 72,
   "metadata": {
    "collapsed": false
   },
   "outputs": [
    {
     "name": "stdout",
     "output_type": "stream",
     "text": [
      "Zeros\n",
      " [ 0.  0.  0.]\n",
      "Ones\n",
      " [[ 1.  1.  1.  1.]\n",
      " [ 1.  1.  1.  1.]\n",
      " [ 1.  1.  1.  1.]]\n",
      "Array\n",
      " [[1 2 3]\n",
      " [4 5 6]]\n"
     ]
    }
   ],
   "source": [
    "# zero vector\n",
    "v = np.zeros(3)\n",
    "# n by m matrix of ones\n",
    "M = np.ones((3,4))\n",
    "# array of arrays\n",
    "A = np.array([[1,2,3],[4,5,6]]) \n",
    "print (\"Zeros\\n\", v)\n",
    "print (\"Ones\\n\", M)\n",
    "print (\"Array\\n\", A)"
   ]
  },
  {
   "cell_type": "markdown",
   "metadata": {},
   "source": [
    "It can also create arrays based on a range"
   ]
  },
  {
   "cell_type": "code",
   "execution_count": 73,
   "metadata": {
    "collapsed": false
   },
   "outputs": [
    {
     "name": "stdout",
     "output_type": "stream",
     "text": [
      "[0 1 2 3 4 5 6 7 8 9]\n"
     ]
    }
   ],
   "source": [
    "x = np.arange(10)\n",
    "print (x)"
   ]
  },
  {
   "cell_type": "markdown",
   "metadata": {},
   "source": [
    "And you can reshape an array"
   ]
  },
  {
   "cell_type": "code",
   "execution_count": 74,
   "metadata": {
    "collapsed": false
   },
   "outputs": [
    {
     "name": "stdout",
     "output_type": "stream",
     "text": [
      "[[ 0  1  2]\n",
      " [ 3  4  5]\n",
      " [ 6  7  8]\n",
      " [ 9 10 11]] \n",
      "\n",
      "[[ 0  1  2  3]\n",
      " [ 4  5  6  7]\n",
      " [ 8  9 10 11]]\n"
     ]
    }
   ],
   "source": [
    "b = np.arange(12).reshape(4,3)\n",
    "print (b,\"\\n\")\n",
    "\n",
    "b = b.reshape(3,4)\n",
    "print (b)"
   ]
  },
  {
   "cell_type": "markdown",
   "metadata": {},
   "source": [
    "The values can easily be manipulated"
   ]
  },
  {
   "cell_type": "code",
   "execution_count": 75,
   "metadata": {
    "collapsed": false
   },
   "outputs": [
    {
     "name": "stdout",
     "output_type": "stream",
     "text": [
      "[0 1 2 3]\n",
      "[0 1 4 9]\n",
      "[ True  True False False]\n"
     ]
    }
   ],
   "source": [
    "b = np.arange(4)\n",
    "print (b)\n",
    "print (b**2)\n",
    "print (b < 2)"
   ]
  },
  {
   "cell_type": "markdown",
   "metadata": {},
   "source": [
    "And be created from a random uniform distribution"
   ]
  },
  {
   "cell_type": "code",
   "execution_count": 76,
   "metadata": {
    "collapsed": false
   },
   "outputs": [
    {
     "name": "stdout",
     "output_type": "stream",
     "text": [
      "[ 0.8216498   0.06282545  0.96008575  0.69829277  0.50362221  0.12240975\n",
      "  0.46899675  0.07600882  0.65016132  0.29667706]\n"
     ]
    }
   ],
   "source": [
    "y = np.random.uniform(size=10) \n",
    "print (y) "
   ]
  },
  {
   "cell_type": "markdown",
   "metadata": {},
   "source": [
    "And even create the identity matrix"
   ]
  },
  {
   "cell_type": "code",
   "execution_count": 77,
   "metadata": {
    "collapsed": false
   },
   "outputs": [
    {
     "data": {
      "text/plain": [
       "array([[ 1.,  0.,  0.,  0.],\n",
       "       [ 0.,  1.,  0.,  0.],\n",
       "       [ 0.,  0.,  1.,  0.],\n",
       "       [ 0.,  0.,  0.,  1.]])"
      ]
     },
     "execution_count": 77,
     "metadata": {},
     "output_type": "execute_result"
    }
   ],
   "source": [
    "np.identity(4)"
   ]
  },
  {
   "cell_type": "markdown",
   "metadata": {},
   "source": [
    "**Exercise:**<br/>\n",
    "Create an 3x3 array with random uniform values"
   ]
  },
  {
   "cell_type": "code",
   "execution_count": null,
   "metadata": {
    "collapsed": false
   },
   "outputs": [],
   "source": []
  },
  {
   "cell_type": "markdown",
   "metadata": {},
   "source": [
    "NumPy speeds up loops <i>a lot</i>, because it pushes loops into it's compiled layers. You can make use of this by using numpy arrays rather than python lists, and using:\n",
    "1. <b><a href=http://docs.scipy.org/doc/numpy/reference/ufuncs.html>Ufuncs</a></b> for element-wise operations on arrays\n",
    "2. <b>Aggregations</b> for summarizing the values of an array (e.g. np.min, np.max, np.sum, np.mean)\n",
    "3. <b><a href=http://scipy.github.io/old-wiki/pages/EricsBroadcastingDoc>Broadcasting</a></b> for combining arrays\n",
    "4. <b><a href=http://docs.scipy.org/doc/numpy/reference/arrays.indexing.html>Indexing and slciing</a></b> as discussed above\n",
    "> There is an  <a href=http://nbviewer.ipython.org/github/jrjohansson/scientific-python-lectures/blob/master/Lecture-2-Numpy.ipynb> alternative intro to numpy here</a> by J.R. Johansson\n",
    "    "
   ]
  },
  {
   "cell_type": "markdown",
   "metadata": {},
   "source": [
    "#### Answers to exercises"
   ]
  },
  {
   "cell_type": "markdown",
   "metadata": {},
   "source": [
    "Find the number of meteor impacts where the meteor itself was found"
   ]
  },
  {
   "cell_type": "code",
   "execution_count": null,
   "metadata": {
    "collapsed": false,
    "scrolled": true
   },
   "outputs": [],
   "source": [
    "df.fell_found.value_counts()"
   ]
  },
  {
   "cell_type": "markdown",
   "metadata": {},
   "source": [
    "Find all meteor impacts over 20000000g after 1900"
   ]
  },
  {
   "cell_type": "code",
   "execution_count": null,
   "metadata": {
    "collapsed": true
   },
   "outputs": [],
   "source": [
    "after1900 = df['year'] > 1900 \n",
    "mass = df['mass_g'] > 20000000 \n",
    "df[after1900 & mass] "
   ]
  },
  {
   "cell_type": "markdown",
   "metadata": {},
   "source": [
    "Create an 3x3 array with random uniform values "
   ]
  },
  {
   "cell_type": "code",
   "execution_count": null,
   "metadata": {
    "collapsed": true
   },
   "outputs": [],
   "source": [
    "np.random.uniform(size=9).reshape((3,3))"
   ]
  }
 ],
 "metadata": {
  "kernelspec": {
   "display_name": "Python 3",
   "language": "python",
   "name": "python3"
  },
  "language_info": {
   "codemirror_mode": {
    "name": "ipython",
    "version": 3
   },
   "file_extension": ".py",
   "mimetype": "text/x-python",
   "name": "python",
   "nbconvert_exporter": "python",
   "pygments_lexer": "ipython3",
   "version": "3.6.0"
  }
 },
 "nbformat": 4,
 "nbformat_minor": 0
}
