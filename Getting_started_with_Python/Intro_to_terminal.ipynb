{
 "cells": [
  {
   "cell_type": "markdown",
   "metadata": {},
   "source": [
    "# Terminal commands <img src=\"logo.png\",width=140,height=140, align=\"right\">"
   ]
  },
  {
   "cell_type": "markdown",
   "metadata": {},
   "source": [
    "In sherlock, by accessing the terminal you can carry out a lot of operations that are currently unaviable in the User Interface.\n",
    "\n",
    "We want to be fammililar with just a couple of commands, to make your life easier, these are:\n",
    "\n",
    "ls, cd, mkdir, mv, pwd\n",
    "\n",
    "These allow you to move around the folders easily, make new ones and change locations of files\n",
    "\n",
    "You can use these sipmle commands in the notebook and in the terminal. Other commands will only run in the terminal. "
   ]
  },
  {
   "cell_type": "markdown",
   "metadata": {},
   "source": [
    "##### Background\n",
    "\n",
    "To give you a bit of background, these commands are part of the Bash command language, which is typically used on Unix computers (you can also use it in the Terminal on a Mac). Bash typically runs in a text window, command line or terminal, where the user types commands that cause actions. Data scientists often have to work a little bit with Bash in a terminal, so it is wise to learn a few commands, and it is not a difficuly thing to learn.\n",
    "\n",
    "If you'd like to learn more about using the terminal, I suggest you complete the following online course: https://www.codecademy.com/learn/learn-the-command-line "
   ]
  },
  {
   "cell_type": "markdown",
   "metadata": {},
   "source": [
    "### ls\n",
    "look at where I am"
   ]
  },
  {
   "cell_type": "code",
   "execution_count": null,
   "metadata": {
    "collapsed": false
   },
   "outputs": [],
   "source": [
    "ls"
   ]
  },
  {
   "cell_type": "markdown",
   "metadata": {},
   "source": [
    "### cd\n",
    "On its own. Go all the way back!"
   ]
  },
  {
   "cell_type": "code",
   "execution_count": null,
   "metadata": {
    "collapsed": false
   },
   "outputs": [],
   "source": [
    "cd"
   ]
  },
  {
   "cell_type": "markdown",
   "metadata": {},
   "source": [
    "Now we want to go back to where we where, so we're going to navigate forwards, we can see the folders where we currently are by using ls"
   ]
  },
  {
   "cell_type": "code",
   "execution_count": null,
   "metadata": {
    "collapsed": false
   },
   "outputs": [],
   "source": [
    "ls"
   ]
  },
  {
   "cell_type": "markdown",
   "metadata": {},
   "source": [
    "cd with a location allows you to navigate to that location directly, you can also navigate stepwise going step by step from your location to the next, which helps if you don't know exactly where the folder is located you want to navigate to"
   ]
  },
  {
   "cell_type": "code",
   "execution_count": null,
   "metadata": {
    "collapsed": false
   },
   "outputs": [],
   "source": [
    "cd /home/sherlock/workspace/"
   ]
  },
  {
   "cell_type": "code",
   "execution_count": null,
   "metadata": {
    "collapsed": true
   },
   "outputs": [],
   "source": [
    "ls"
   ]
  },
  {
   "cell_type": "markdown",
   "metadata": {},
   "source": [
    "Ok that get's us there, now let's do it stepwise, we'll go all the way back and step by step into the workspace folder"
   ]
  },
  {
   "cell_type": "code",
   "execution_count": null,
   "metadata": {
    "collapsed": false
   },
   "outputs": [],
   "source": [
    "cd"
   ]
  },
  {
   "cell_type": "code",
   "execution_count": null,
   "metadata": {
    "collapsed": false
   },
   "outputs": [],
   "source": [
    "cd workspace"
   ]
  },
  {
   "cell_type": "markdown",
   "metadata": {},
   "source": [
    "### mkdir \n",
    "allows you to make a folder\n"
   ]
  },
  {
   "cell_type": "code",
   "execution_count": 2,
   "metadata": {
    "collapsed": false
   },
   "outputs": [],
   "source": [
    "mkdir data"
   ]
  },
  {
   "cell_type": "markdown",
   "metadata": {
    "collapsed": false
   },
   "source": [
    "let's check whether it's there"
   ]
  },
  {
   "cell_type": "code",
   "execution_count": null,
   "metadata": {
    "collapsed": false
   },
   "outputs": [],
   "source": [
    "ls"
   ]
  },
  {
   "cell_type": "markdown",
   "metadata": {},
   "source": [
    "yep it's there, let's go into it"
   ]
  },
  {
   "cell_type": "code",
   "execution_count": null,
   "metadata": {
    "collapsed": false
   },
   "outputs": [],
   "source": [
    "cd data"
   ]
  },
  {
   "cell_type": "code",
   "execution_count": 18,
   "metadata": {
    "collapsed": false
   },
   "outputs": [],
   "source": [
    "mkdir ben"
   ]
  },
  {
   "cell_type": "code",
   "execution_count": null,
   "metadata": {
    "collapsed": false
   },
   "outputs": [],
   "source": [
    "ls"
   ]
  },
  {
   "cell_type": "markdown",
   "metadata": {},
   "source": [
    "Great, the 'ben' folder has been created with mkdir. You've seen some examples of going stepwise into the next location, you can use the TAB button to have the terminal complete the name you're trying to type of the folders you're searching for, this only works when you work in the terminal, not here in the notebook"
   ]
  },
  {
   "cell_type": "code",
   "execution_count": null,
   "metadata": {
    "collapsed": false
   },
   "outputs": [],
   "source": [
    "cd ben"
   ]
  },
  {
   "cell_type": "code",
   "execution_count": 21,
   "metadata": {
    "collapsed": true
   },
   "outputs": [],
   "source": [
    "ls"
   ]
  },
  {
   "cell_type": "markdown",
   "metadata": {},
   "source": [
    "This folder is empty, so ls doesn't show anything here. cd .. allows you to go one step back in the folder strucutre "
   ]
  },
  {
   "cell_type": "code",
   "execution_count": null,
   "metadata": {
    "collapsed": false
   },
   "outputs": [],
   "source": [
    "cd .."
   ]
  },
  {
   "cell_type": "code",
   "execution_count": null,
   "metadata": {
    "collapsed": false
   },
   "outputs": [],
   "source": [
    "ls"
   ]
  },
  {
   "cell_type": "code",
   "execution_count": 24,
   "metadata": {
    "collapsed": true
   },
   "outputs": [],
   "source": [
    "mkdir harry"
   ]
  },
  {
   "cell_type": "code",
   "execution_count": null,
   "metadata": {
    "collapsed": false
   },
   "outputs": [],
   "source": [
    "ls"
   ]
  },
  {
   "cell_type": "code",
   "execution_count": null,
   "metadata": {
    "collapsed": false
   },
   "outputs": [],
   "source": [
    "cd harry"
   ]
  },
  {
   "cell_type": "markdown",
   "metadata": {},
   "source": [
    "Putting ../ moves you back one level and into the the other designated folder faster, without having to do cd .. and then cd ben"
   ]
  },
  {
   "cell_type": "code",
   "execution_count": null,
   "metadata": {
    "collapsed": false
   },
   "outputs": [],
   "source": [
    "cd ../ben"
   ]
  },
  {
   "cell_type": "markdown",
   "metadata": {},
   "source": [
    "### pwd \n",
    "present working directory - tells you where you are"
   ]
  },
  {
   "cell_type": "code",
   "execution_count": null,
   "metadata": {
    "collapsed": false
   },
   "outputs": [],
   "source": [
    "pwd"
   ]
  },
  {
   "cell_type": "markdown",
   "metadata": {},
   "source": [
    "## Why is this important?\n",
    "\n",
    "Most importantly, it allows you to naviatage the file structure of your workspace beyond the simple interface. Often when you try to use python from your personal laptop, you might need to launch it from a specific location. These commands allow you to do get there and do so.  \n",
    "\n",
    "So let's have a look at our resulting workspace folder structure by clicking on \"workspace\" or on the tab with the 3 balls above, to see whether those folders are actually there \n",
    "Once you're done checking, come back here and we'll clean up the mess"
   ]
  },
  {
   "cell_type": "markdown",
   "metadata": {},
   "source": [
    "### mv \n",
    "\n",
    "mv allows you to move files and folders around. It takes the the form mv \"location of the thing to move\" \"location where to move the thing to\""
   ]
  },
  {
   "cell_type": "code",
   "execution_count": null,
   "metadata": {
    "collapsed": false
   },
   "outputs": [],
   "source": [
    "mv /home/sherlock/workspace/data/harry /home/sherlock/workspace/data/ben"
   ]
  },
  {
   "cell_type": "markdown",
   "metadata": {},
   "source": [
    "So this has moved the folder \"harry\" into the folder \"ben\". You can check on your workspace folder structure whether it actually worked. One last step, you can remove folders using the command rm -r \"folder name\". rm stands for remove and -r means recursive, i.e. remove the entire content and subfolders. "
   ]
  },
  {
   "cell_type": "code",
   "execution_count": null,
   "metadata": {
    "collapsed": true
   },
   "outputs": [],
   "source": [
    "rm -r /home/sherlock/workspace/data/"
   ]
  },
  {
   "cell_type": "code",
   "execution_count": 5,
   "metadata": {
    "collapsed": false
   },
   "outputs": [
    {
     "name": "stdout",
     "output_type": "stream",
     "text": [
      "mv: cannot stat 'home/sherlock/workspace/Session 1 - Intro to data science/Extra_exercises': No such file or directory\r\n"
     ]
    }
   ],
   "source": [
    "mv home/sherlock/workspace/Session\\ 1\\ -\\ Intro\\ to\\ data\\ science/Extra_exercises  /home/sherlock/workspace/Session\\ 1\\ -\\ Intro\\ to\\ data\\ science/\n"
   ]
  },
  {
   "cell_type": "markdown",
   "metadata": {
    "collapsed": false
   },
   "source": [
    "Great, now that we're done click on \"File\" and then \"Close and Halt\" to close down this exercise. If you just click on X in the tab, then the session will keep on running in the background, so best to use Close and Halt when you're done with a notebook"
   ]
  },
  {
   "cell_type": "markdown",
   "metadata": {},
   "source": [
    "## Git\n",
    "\n",
    "You will have used the git clone \"url address\" command during the start of this course. You might wonder what that is all about. Git is version control software that allows you to manage your code, and share and collaborate with others. Whilst it's not as user friendly as Sherlock for collaborating (also you can't store large amounts of data in Git), it is still quite commonly used. You might therefore want to familiarize yourself with some basic git commands for version control. An excellent source for that is this online course:\n",
    "\n",
    "https://www.codecademy.com/learn/learn-git"
   ]
  },
  {
   "cell_type": "markdown",
   "metadata": {
    "collapsed": true
   },
   "source": [
    "Copyright © ASI 2017 All rights reserved"
   ]
  }
 ],
 "metadata": {
  "anaconda-cloud": {},
  "kernelspec": {
   "display_name": "Python [conda env:Python3]",
   "language": "python",
   "name": "conda-env-Python3-py"
  },
  "language_info": {
   "codemirror_mode": {
    "name": "ipython",
    "version": 3
   },
   "file_extension": ".py",
   "mimetype": "text/x-python",
   "name": "python",
   "nbconvert_exporter": "python",
   "pygments_lexer": "ipython3",
   "version": "3.5.2"
  }
 },
 "nbformat": 4,
 "nbformat_minor": 2
}
